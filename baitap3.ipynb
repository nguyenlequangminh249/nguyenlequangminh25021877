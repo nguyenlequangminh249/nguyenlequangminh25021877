{
 "cells": [
  {
   "cell_type": "code",
   "execution_count": 1,
   "id": "4d69e3fc-c93f-4f5c-84b3-3486296abda5",
   "metadata": {},
   "outputs": [
    {
     "name": "stdin",
     "output_type": "stream",
     "text": [
      "Nhập số a:  7\n",
      "Nhập số b:  8\n"
     ]
    },
    {
     "name": "stdout",
     "output_type": "stream",
     "text": [
      "Sau khi hoán đổi:   a = 8 , b = 7\n"
     ]
    }
   ],
   "source": [
    "#bài 1\n",
    "a = int(input(\"Nhập số a: \"))\n",
    "b = int(input(\"Nhập số b: \"))\n",
    "a = a ^ b\n",
    "b = a ^ b\n",
    "a = a ^ b\n",
    "print(\"Sau khi hoán đổi:   a =\", a, \", b =\", b)\n"
   ]
  },
  {
   "cell_type": "code",
   "execution_count": 3,
   "id": "17d10457-976e-4164-b582-b6a945bd627d",
   "metadata": {},
   "outputs": [
    {
     "name": "stdin",
     "output_type": "stream",
     "text": [
      "Nhập số a:  8\n",
      "Nhập số b:  9\n"
     ]
    },
    {
     "name": "stdout",
     "output_type": "stream",
     "text": [
      "Trước khi hoán đổi: a = 8 , b = 9\n",
      "Sau khi hoán đổi:   a = 9 , b = 8\n"
     ]
    }
   ],
   "source": [
    "#bài 2\n",
    "n = int(input(\"Nhập một số nguyên: \"))\n",
    "if n > 0 and (n & (n - 1)) == 0:\n",
    "    print(n, \"là lũy thừa của 2\")\n",
    "else:\n",
    "    print(n, \"không phải là lũy thừa của 2\")\n"
   ]
  },
  {
   "cell_type": "code",
   "execution_count": 5,
   "id": "8df38669-8391-4d61-a466-989eb709f42c",
   "metadata": {},
   "outputs": [
    {
     "name": "stdin",
     "output_type": "stream",
     "text": [
      "Nhập số m:  7\n",
      "Nhập số n:  8\n"
     ]
    },
    {
     "name": "stdout",
     "output_type": "stream",
     "text": [
      "Kết quả làm tròn xuống: 0\n"
     ]
    }
   ],
   "source": [
    "#bài 3\n",
    "m = float(input(\"Nhập số m: \"))\n",
    "n = float(input(\"Nhập số n: \"))\n",
    "j = m // n   \n",
    "print(\"Kết quả làm tròn xuống:\", int(j))\n"
   ]
  },
  {
   "cell_type": "code",
   "execution_count": 14,
   "id": "59e56eb6-423c-4ef8-9e03-84785471ef83",
   "metadata": {},
   "outputs": [
    {
     "name": "stdin",
     "output_type": "stream",
     "text": [
      "Nhập số m:  9\n",
      "Nhập số n:  8\n"
     ]
    },
    {
     "name": "stdout",
     "output_type": "stream",
     "text": [
      "Kết quả chia m cho n không thể làm tròn lên:  1.125\n"
     ]
    }
   ],
   "source": [
    "#bài 4\n",
    "m = float(input(\"Nhập số m: \"))\n",
    "n = float(input(\"Nhập số n: \"))\n",
    "j = m/n\n",
    "if j.is_integer():\n",
    "    print(\"Kết quả chia m cho n là một số không cần làm tròn: \", int(j))\n",
    "elif (j-m//n)>=0.5:\n",
    "    \n",
    "    j = m//n + 1\n",
    "    print(\"Kết quả chia m cho n có thể làm tròn lên và bằng: \", int(j))\n",
    "else:\n",
    "    print(\"Kết quả chia m cho n không thể làm tròn lên: \",j)\n"
   ]
  },
  {
   "cell_type": "code",
   "execution_count": 15,
   "id": "a19d6734-bfa3-471a-a069-b86cb899d176",
   "metadata": {},
   "outputs": [
    {
     "name": "stdin",
     "output_type": "stream",
     "text": [
      "Nhập vào một số nguyên dương x:  7\n"
     ]
    },
    {
     "name": "stdout",
     "output_type": "stream",
     "text": [
      "Odd\n"
     ]
    }
   ],
   "source": [
    "#bài 5\n",
    "x = int(input(\"Nhập vào một số nguyên dương x: \"))\n",
    "if x % 2 == 0:\n",
    "    print(\"Even\")\n",
    "else:\n",
    "    print(\"Odd\")\n"
   ]
  },
  {
   "cell_type": "code",
   "execution_count": 16,
   "id": "3ba0954f-783d-4187-b8d8-264eab48a695",
   "metadata": {},
   "outputs": [
    {
     "name": "stdin",
     "output_type": "stream",
     "text": [
      "Nhập số nguyên a:  8\n",
      "Nhập số nguyên b:  9\n"
     ]
    },
    {
     "name": "stdout",
     "output_type": "stream",
     "text": [
      "No\n"
     ]
    }
   ],
   "source": [
    "#bài 6\n",
    "a = int(input(\"Nhập số nguyên a: \"))\n",
    "b = int(input(\"Nhập số nguyên b: \"))\n",
    "\n",
    "if a < 0 and b < 0:\n",
    "    print(\"Yes\")\n",
    "else:\n",
    "    print(\"No\")\n"
   ]
  },
  {
   "cell_type": "code",
   "execution_count": 17,
   "id": "a7996890-f7bf-4459-9c47-50929c4006fa",
   "metadata": {},
   "outputs": [
    {
     "name": "stdin",
     "output_type": "stream",
     "text": [
      "Nhập chuỗi a:  abdhfh\n",
      "Nhập chuỗi b:  ạdjkksdkk\n"
     ]
    },
    {
     "name": "stdout",
     "output_type": "stream",
     "text": [
      "False\n"
     ]
    }
   ],
   "source": [
    "#bài 7\n",
    "a = input(\"Nhập chuỗi a: \")\n",
    "b = input(\"Nhập chuỗi b: \")\n",
    "if len(a) > len(b):\n",
    "    print(\"True\")\n",
    "else:\n",
    "    print(\"False\")\n"
   ]
  },
  {
   "cell_type": "code",
   "execution_count": 18,
   "id": "040623b0-16d7-43ef-a42b-e8b014b48da6",
   "metadata": {},
   "outputs": [
    {
     "name": "stdin",
     "output_type": "stream",
     "text": [
      "Nhập cạnh a:  8\n",
      "Nhập cạnh b:  7\n",
      "Nhập cạnh c:  9\n"
     ]
    },
    {
     "name": "stdout",
     "output_type": "stream",
     "text": [
      "Yes\n"
     ]
    }
   ],
   "source": [
    "#bài 8\n",
    "a = int(input(\"Nhập cạnh a: \"))\n",
    "b = int(input(\"Nhập cạnh b: \"))\n",
    "c = int(input(\"Nhập cạnh c: \"))\n",
    "\n",
    "if a + b > c and a + c > b and b + c > a:\n",
    "    print(\"Yes\")\n",
    "else:\n",
    "    print(\"No\")\n"
   ]
  },
  {
   "cell_type": "code",
   "execution_count": 19,
   "id": "04fa7091-c4f6-49d0-b021-3ede9ee0639f",
   "metadata": {},
   "outputs": [
    {
     "name": "stdin",
     "output_type": "stream",
     "text": [
      "Nhập số nguyên a:  8\n",
      "Nhập số nguyên b:  7\n",
      "Nhập số nguyên c:  9\n",
      "Nhập số nguyên d:  6\n"
     ]
    },
    {
     "name": "stdout",
     "output_type": "stream",
     "text": [
      "Số lớn nhất là: 9\n"
     ]
    }
   ],
   "source": [
    "#bài 9\n",
    "a = int(input(\"Nhập số nguyên a: \"))\n",
    "b = int(input(\"Nhập số nguyên b: \"))\n",
    "c = int(input(\"Nhập số nguyên c: \"))\n",
    "d = int(input(\"Nhập số nguyên d: \"))\n",
    "\n",
    "solonnhat = max(a, b, c, d)\n",
    "print(\"Số lớn nhất là:\", solonnhat)\n"
   ]
  },
  {
   "cell_type": "code",
   "execution_count": 20,
   "id": "d25aa068-d8a6-4fa5-8edc-a971c1d775da",
   "metadata": {},
   "outputs": [
    {
     "name": "stdin",
     "output_type": "stream",
     "text": [
      "Nhập cạnh a:  7\n",
      "Nhập cạnh b:  8\n",
      "Nhập cạnh c:  9\n"
     ]
    },
    {
     "name": "stdout",
     "output_type": "stream",
     "text": [
      "Tam giác thường\n"
     ]
    }
   ],
   "source": [
    "#bài 10\n",
    "a = int(input(\"Nhập cạnh a: \"))\n",
    "b = int(input(\"Nhập cạnh b: \"))\n",
    "c = int(input(\"Nhập cạnh c: \"))\n",
    "\n",
    "if a + b > c and a + c > b and b + c > a:\n",
    "    if a == b == c:\n",
    "        print(\"Tam giác đều\")\n",
    "    elif a == b or a == c or b == c:\n",
    "        print(\"Tam giác cân\")\n",
    "    else:\n",
    "        print(\"Tam giác thường\")\n",
    "else:\n",
    "    print(\"Không phải tam giác\")\n"
   ]
  },
  {
   "cell_type": "code",
   "execution_count": 21,
   "id": "b4aef5be-0f57-4dbb-a079-ca74e4beddd0",
   "metadata": {},
   "outputs": [
    {
     "name": "stdin",
     "output_type": "stream",
     "text": [
      "Nhập vào một năm:  2978\n"
     ]
    },
    {
     "name": "stdout",
     "output_type": "stream",
     "text": [
      "No\n"
     ]
    }
   ],
   "source": [
    "#bài 11\n",
    "n = int(input(\"Nhập vào một năm: \"))\n",
    "if (n % 4 == 0 and n % 100 != 0) or (n % 400 == 0):\n",
    "    print(\"Yes\")\n",
    "else:\n",
    "    print(\"No\")\n"
   ]
  },
  {
   "cell_type": "code",
   "execution_count": 22,
   "id": "e995b305-9430-4e07-8bf0-805cdafb0ddd",
   "metadata": {},
   "outputs": [
    {
     "name": "stdin",
     "output_type": "stream",
     "text": [
      "Nhập a:  7\n",
      "Nhập b:  9\n"
     ]
    },
    {
     "name": "stdout",
     "output_type": "stream",
     "text": [
      "Nghiệm của phương trình là: -1.29\n"
     ]
    }
   ],
   "source": [
    "#bài 12\n",
    "a = float(input(\"Nhập a: \"))\n",
    "b = float(input(\"Nhập b: \"))\n",
    "if a == 0:\n",
    "    if b == 0:\n",
    "        print(\"Vô số nghiệm\")\n",
    "    else:\n",
    "        print(\"Vô nghiệm\")\n",
    "else:\n",
    "    x = -b / a\n",
    "    print(\"Nghiệm của phương trình là:\", round(x, 2))\n"
   ]
  },
  {
   "cell_type": "code",
   "execution_count": 23,
   "id": "6b3ca861-db55-4317-8bb5-3ae489e07033",
   "metadata": {},
   "outputs": [
    {
     "name": "stdin",
     "output_type": "stream",
     "text": [
      "Nhập điểm trung bình:  9\n"
     ]
    },
    {
     "name": "stdout",
     "output_type": "stream",
     "text": [
      "Giỏi\n"
     ]
    }
   ],
   "source": [
    "#bài 13\n",
    "diemtb = float(input(\"Nhập điểm trung bình: \"))\n",
    "if diemtb >= 8.0:\n",
    "    print(\"Giỏi\")\n",
    "elif diemtb >= 6.5:\n",
    "    print(\"Khá\")\n",
    "elif diemtb >= 5.0:\n",
    "    print(\"Trung bình\")\n",
    "else:\n",
    "    print(\"Yếu\")\n"
   ]
  },
  {
   "cell_type": "code",
   "execution_count": 26,
   "id": "73fc166e-33b3-4b55-9284-b2946de13279",
   "metadata": {},
   "outputs": [
    {
     "name": "stdin",
     "output_type": "stream",
     "text": [
      "Nhập một số thực:  7.9\n"
     ]
    },
    {
     "name": "stdout",
     "output_type": "stream",
     "text": [
      "Số  làm tròn xuống, làm tròn lên là : 7 8\n"
     ]
    }
   ],
   "source": [
    "#bài 14\n",
    "a = float(input(\"Nhập một số thực: \"))\n",
    "if a.is_integer():\n",
    "    print(\"Số này làm tròn là chính nó: \", int(a))\n",
    "else:\n",
    "    b = a//1\n",
    "    c = a//1 + 1\n",
    "    print(\"Số làm tròn xuống, làm tròn lên là :\" , int(b),int(c) )"
   ]
  },
  {
   "cell_type": "code",
   "execution_count": null,
   "id": "82065afd-caf9-4b8d-82ab-d29e6e9f3442",
   "metadata": {},
   "outputs": [],
   "source": [
    "#bài 15\n",
    "a = int(input(\"Nhập a: \"))\n",
    "b = int(input(\"Nhập b: \"))\n",
    "c = int(input(\"Nhập c: \"))\n",
    "d = int(input(\"Nhập d: \"))\n",
    "\n",
    "if a == 0:\n",
    "    print(\"Không thể tạo cấp số nhân (a = 0)\")\n",
    "else:\n",
    "    q = b // a  \n",
    "    if b * q == c and c * q == d:\n",
    "        print(\"4 số này có thể tạo thành một cấp số nhân theo đúng thứ tự a,b,c,d\")\n",
    "    else:\n",
    "        print(\"4 số này không thể tạo thành một cấp số nhân theo đúng thứ tự a,b,c,d\")\n"
   ]
  }
 ],
 "metadata": {
  "kernelspec": {
   "display_name": "Python 3 (ipykernel)",
   "language": "python",
   "name": "python3"
  },
  "language_info": {
   "codemirror_mode": {
    "name": "ipython",
    "version": 3
   },
   "file_extension": ".py",
   "mimetype": "text/x-python",
   "name": "python",
   "nbconvert_exporter": "python",
   "pygments_lexer": "ipython3",
   "version": "3.13.7"
  }
 },
 "nbformat": 4,
 "nbformat_minor": 5
}
