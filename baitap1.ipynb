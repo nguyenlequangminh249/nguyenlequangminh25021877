{
 "cells": [
  {
   "cell_type": "code",
   "execution_count": 2,
   "id": "34253c57-d9a1-48b2-86a9-a67b6a4d1eb6",
   "metadata": {},
   "outputs": [
    {
     "name": "stdin",
     "output_type": "stream",
     "text": [
      "Nhập số nguyên n:  8\n"
     ]
    },
    {
     "name": "stdout",
     "output_type": "stream",
     "text": [
      "Số gấp đôi n là:  16\n"
     ]
    }
   ],
   "source": [
    "n= int(input(\"Nhập số nguyên n: \"))\n",
    "n = 2*n\n",
    "print(\"Số gấp đôi n là: \",str(n))"
   ]
  },
  {
   "cell_type": "code",
   "execution_count": 4,
   "id": "d3fe7338-d643-4aaf-a9c7-83485095d70c",
   "metadata": {},
   "outputs": [
    {
     "name": "stdin",
     "output_type": "stream",
     "text": [
      "Nhập chiều rộng hình chữ nhật:  7\n",
      "Nhập chiều dài hình chữ nhật:  8\n"
     ]
    },
    {
     "name": "stdout",
     "output_type": "stream",
     "text": [
      "Diện tích còn để trồng cây là:  17.53\n"
     ]
    }
   ],
   "source": [
    "a =int(input(\"Nhập chiều rộng hình chữ nhật: \"))\n",
    "b =int(input(\"Nhập chiều dài hình chữ nhật: \"))\n",
    "stron= 3.14*(a/2)**2\n",
    "strongcay = a*b - stron \n",
    "print(\"Diện tích còn để trồng cây là: \",str(round(strongcay,2)))"
   ]
  },
  {
   "cell_type": "code",
   "execution_count": 7,
   "id": "797a06ca-6684-4c65-b65c-b925e01e9efc",
   "metadata": {},
   "outputs": [
    {
     "name": "stdin",
     "output_type": "stream",
     "text": [
      "Nhập vào một kí tự:  c\n"
     ]
    },
    {
     "name": "stdout",
     "output_type": "stream",
     "text": [
      "Chữ hoa tương ứng của kí tự này là:  C\n"
     ]
    }
   ],
   "source": [
    "chu= input(\"Nhập vào một kí tự: \")\n",
    "if chu.isupper():\n",
    "    print(\"Chữ thường tương ứng của kí tự này là: \",chu.lower())\n",
    "elif chu.islower():\n",
    "    print(\"Chữ hoa tương ứng của kí tự này là: \",chu.upper())\n",
    "else:\n",
    "    print(\"Không phải chữ\")"
   ]
  },
  {
   "cell_type": "code",
   "execution_count": 9,
   "id": "46357460-a9e0-4321-a66e-a35498bc50cd",
   "metadata": {},
   "outputs": [
    {
     "name": "stdin",
     "output_type": "stream",
     "text": [
      "Nhập vào một kí tự:  u\n"
     ]
    },
    {
     "name": "stdout",
     "output_type": "stream",
     "text": [
      "u là kí tự alphabet\n"
     ]
    }
   ],
   "source": [
    "chu1= input(\"Nhập vào một kí tự: \")\n",
    "if chu1.isalpha():\n",
    "    print(f\"{chu1} là kí tự alphabet\")\n",
    "else:\n",
    "    print(f\"{chu1} không phải là kí tự alphabet\")"
   ]
  },
  {
   "cell_type": "code",
   "execution_count": 14,
   "id": "24466f44-979a-4e41-8bf1-3fc5ecd91067",
   "metadata": {},
   "outputs": [
    {
     "name": "stdin",
     "output_type": "stream",
     "text": [
      "Nhập một chữ cái in hoa:  t\n"
     ]
    },
    {
     "name": "stdout",
     "output_type": "stream",
     "text": [
      "Đây không phải chữ in hoa\n"
     ]
    }
   ],
   "source": [
    "chu2 = input(\"Nhập một chữ cái in hoa: \")\n",
    "if chu2=='A':\n",
    "    print(\"Đây là trường hợp đặc biệt\")\n",
    "elif chu2.isupper():\n",
    "    chu2 = chu2.lower()\n",
    "    chu3 = chr(ord(chu2)-1)\n",
    "    print(f\"Chữ thường liền trước của {chu2} là:\", chu3)\n",
    "else:\n",
    "    print(\"Đây không phải chữ in hoa\")\n",
    "    "
   ]
  },
  {
   "cell_type": "code",
   "execution_count": 20,
   "id": "75fa1d8c-afe5-4e63-8c62-154e16ee85b0",
   "metadata": {},
   "outputs": [
    {
     "name": "stdin",
     "output_type": "stream",
     "text": [
      "Nhập 3 số a,b,c:  2 3 4\n"
     ]
    },
    {
     "name": "stdout",
     "output_type": "stream",
     "text": [
      "Đây là 3 cạnh của 1 tam giác\n",
      "Diện tích tam giác này là:  2.9\n"
     ]
    }
   ],
   "source": [
    "import math\n",
    "a,b,c = map(int,input(\"Nhập 3 số a,b,c: \").split())\n",
    "if a + b > c and a + c > b and b + c > a:\n",
    "    print(\"Đây là 3 cạnh của 1 tam giác\")\n",
    "    p = (a + b + c) / 2\n",
    "    S = math.sqrt(p * (p - a) * (p - b) * (p - c))\n",
    "    print(\"Diện tích tam giác này là: \", str(round(S,1)))\n",
    "else:\n",
    "    print(\"Không phải 3 cạnh của tam giác\")"
   ]
  },
  {
   "cell_type": "code",
   "execution_count": 25,
   "id": "7f190345-8bd0-47ef-8ab0-1792984c228f",
   "metadata": {},
   "outputs": [
    {
     "name": "stdin",
     "output_type": "stream",
     "text": [
      "Nhập vào 1 chuỗi gồm các kí tự thường độ dài >= 20: ahsahbdihabhiadhsbfhabhfbT\n"
     ]
    },
    {
     "name": "stdout",
     "output_type": "stream",
     "text": [
      "Chuỗi này phải toàn chữ thường\n"
     ]
    }
   ],
   "source": [
    "a = input(\"Nhập vào 1 chuỗi gồm các kí tự thường độ dài >= 20:\")\n",
    "if len(a)<20:\n",
    "    print(\"Không đủ kí tự\")\n",
    "elif not a.islower():\n",
    "     print(\"Chuỗi này phải toàn chữ thường\")\n",
    "else:\n",
    "    print(\"Chữ cái thứ 5 của chuỗi này là \", a[4])\n",
    "    print(\"Chữ cái thứ 9 của chuỗi này là \", a[8])"
   ]
  },
  {
   "cell_type": "code",
   "execution_count": 35,
   "id": "15fbcba7-c0f4-41d5-b806-b156b2cdef5a",
   "metadata": {},
   "outputs": [
    {
     "name": "stdin",
     "output_type": "stream",
     "text": [
      "Tên chủ hộ:  minh\n",
      "Chỉ số tháng trước:  0\n",
      "Chỉ số tháng này:  49\n"
     ]
    },
    {
     "name": "stdout",
     "output_type": "stream",
     "text": [
      "Họ và tên:  minh\n",
      "Tiền phải trả là:  104993\n"
     ]
    }
   ],
   "source": [
    "a = input(\"Tên chủ hộ: \")\n",
    "b = int(input(\"Chỉ số tháng trước: \"))\n",
    "c = int(input(\"Chỉ số tháng này: \"))\n",
    "d = c-b\n",
    "print(\"Họ và tên: \", a)\n",
    "if 0<d<=50:\n",
    "    e= d*1984*1.08\n",
    "    print(\"Tiền phải trả là: \", str(round(e)))\n",
    "elif 51<=d<=100:\n",
    "    e= d*2050*1.08\n",
    "    print(\"Tiền phải trả là: \", str(round(e)))\n",
    "elif 101<=d<=200:\n",
    "    e=d*2380*1.08\n",
    "    print(\"Tiền phải trả là: \", str(round(e)))\n",
    "elif 201<=d<=300:\n",
    "    e=d*2998*1.08\n",
    "    print(\"Tiền phải trả là: \", str(round(e)))\n",
    "elif 301<=d<=400:\n",
    "    e=d*3350*1.08\n",
    "    print(\"Tiền phải trả là: \", str(round(e)))\n",
    "elif 401<=d:\n",
    "    e=d*3460*1.08\n",
    "    print(\"Tiền phải trả là: \", str(round(e)))\n",
    "    \n",
    "\n",
    "        \n"
   ]
  },
  {
   "cell_type": "code",
   "execution_count": null,
   "id": "68b212bc-8e7a-4083-8775-4b329f47335d",
   "metadata": {},
   "outputs": [],
   "source": []
  }
 ],
 "metadata": {
  "kernelspec": {
   "display_name": "Python 3 (ipykernel)",
   "language": "python",
   "name": "python3"
  },
  "language_info": {
   "codemirror_mode": {
    "name": "ipython",
    "version": 3
   },
   "file_extension": ".py",
   "mimetype": "text/x-python",
   "name": "python",
   "nbconvert_exporter": "python",
   "pygments_lexer": "ipython3",
   "version": "3.13.7"
  }
 },
 "nbformat": 4,
 "nbformat_minor": 5
}
