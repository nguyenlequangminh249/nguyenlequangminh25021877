{
 "cells": [
  {
   "cell_type": "code",
   "execution_count": 1,
   "id": "2355b6a6-2166-4823-9384-2ec5cae983b9",
   "metadata": {},
   "outputs": [
    {
     "name": "stdin",
     "output_type": "stream",
     "text": [
      "Nhập cạnh a:  1\n",
      "Nhập cạnh b:  2\n"
     ]
    },
    {
     "name": "stdout",
     "output_type": "stream",
     "text": [
      "Diện tích hình chữ nhật là: 2\n",
      "Chu vi hình chữ nhật là: 6\n"
     ]
    }
   ],
   "source": [
    "#bài 1\n",
    "a = int(input(\"Nhập cạnh a: \"))\n",
    "b = int(input(\"Nhập cạnh b: \"))\n",
    "s = a * b\n",
    "p = 2 * (a + b)\n",
    "print(\"Diện tích hình chữ nhật là:\", s)\n",
    "print(\"Chu vi hình chữ nhật là:\", p)\n",
    "\n"
   ]
  },
  {
   "cell_type": "code",
   "execution_count": 2,
   "id": "e7f07bf1-1fbf-496c-9134-c05816a597ea",
   "metadata": {},
   "outputs": [
    {
     "name": "stdin",
     "output_type": "stream",
     "text": [
      "Nhập bán kính r:  2\n"
     ]
    },
    {
     "name": "stdout",
     "output_type": "stream",
     "text": [
      "Diện tích hình tròn là: 12.56\n",
      "Chu vi hình tròn là: 12.56\n"
     ]
    }
   ],
   "source": [
    "#bài 2\n",
    "r = int(input(\"Nhập bán kính r: \"))\n",
    "s = 3.14 * r**2\n",
    "p = 2 * 3.14 * r\n",
    "print(\"Diện tích hình tròn là:\", s)\n",
    "print(\"Chu vi hình tròn là:\", p)\n"
   ]
  },
  {
   "cell_type": "code",
   "execution_count": 5,
   "id": "b606b347-434d-4d53-bebd-b3219f4fbd49",
   "metadata": {},
   "outputs": [
    {
     "name": "stdin",
     "output_type": "stream",
     "text": [
      "Nhập cạnh a:  5\n",
      "Nhập cạnh b:  6\n",
      "Nhập cạnh c:  7\n"
     ]
    },
    {
     "name": "stdout",
     "output_type": "stream",
     "text": [
      "Đây là: Tam giác thường\n",
      "Chu vi tam giác: 18\n",
      "Diện tích tam giác: 14.696938456699069\n"
     ]
    }
   ],
   "source": [
    "#bài 3\n",
    "import math\n",
    "a = int(input(\"Nhập cạnh a: \"))\n",
    "b = int(input(\"Nhập cạnh b: \"))\n",
    "c = int(input(\"Nhập cạnh c: \"))\n",
    "\n",
    "if a + b > c and a + c > b and b + c > a:\n",
    "    if a == b == c:\n",
    "        loai = \"Tam giác đều\"\n",
    "    elif a == b or a == c or b == c:\n",
    "        loai = \"Tam giác cân\"\n",
    "    elif ((a**2 + b**2 - c**2) ==0) or ((a**2 + c**2 - b**2) ==0) or ((b**2 + c**2 - a**2) ==0):\n",
    "        loai = \"Tam giác vuông\"\n",
    "    else:\n",
    "        loai = \"Tam giác thường\"\n",
    "    P = a + b + c\n",
    "    p = P / 2\n",
    "    S = math.sqrt(p * (p - a) * (p - b) * (p - c))\n",
    "    print(\"Đây là:\", loai)\n",
    "    print(\"Chu vi tam giác:\", P)\n",
    "    print(\"Diện tích tam giác:\", S)\n",
    "else:\n",
    "    print(\"Không là ba cạnh của một tam giác\")\n"
   ]
  },
  {
   "cell_type": "code",
   "execution_count": 6,
   "id": "87d45fcf-bf99-41f7-bf99-b065dfaab9a8",
   "metadata": {},
   "outputs": [
    {
     "name": "stdin",
     "output_type": "stream",
     "text": [
      "Nhập a:  6\n",
      "Nhập b:  7\n"
     ]
    },
    {
     "name": "stdout",
     "output_type": "stream",
     "text": [
      "Nghiệm của phương trình là x = -1.1666666666666667\n"
     ]
    }
   ],
   "source": [
    "#bài 4\n",
    "a = int(input(\"Nhập a: \"))\n",
    "b = int(input(\"Nhập b: \"))\n",
    "if a == 0:\n",
    "    if b == 0:\n",
    "        print(\"Phương trình có vô số nghiệm\")\n",
    "    else:\n",
    "        print(\"Phương trình vô nghiệm\")\n",
    "else:\n",
    "    x = -b / a\n",
    "    print(\"Nghiệm của phương trình là x =\", x)\n"
   ]
  },
  {
   "cell_type": "code",
   "execution_count": 7,
   "id": "a88332dc-4ab8-453e-b206-f6d075c2af29",
   "metadata": {},
   "outputs": [
    {
     "name": "stdin",
     "output_type": "stream",
     "text": [
      "Nhập a:  5\n",
      "Nhập b:  6\n",
      "Nhập c:  7\n"
     ]
    },
    {
     "name": "stdout",
     "output_type": "stream",
     "text": [
      "Phương trình vô nghiệm\n"
     ]
    }
   ],
   "source": [
    "#bài 5\n",
    "import math\n",
    "\n",
    "a = int(input(\"Nhập a: \"))\n",
    "b = int(input(\"Nhập b: \"))\n",
    "c = int(input(\"Nhập c: \"))\n",
    "\n",
    "if a == 0: \n",
    "    if b == 0:\n",
    "        if c == 0:\n",
    "            print(\"Phương trình có vô số nghiệm\")\n",
    "        else:\n",
    "            print(\"Phương trình vô nghiệm\")\n",
    "    else:\n",
    "        x = -c / b\n",
    "        print(\"Phương trình bậc 1, nghiệm x =\", x)\n",
    "else:\n",
    "    delta = b**2 - 4*a*c\n",
    "    if delta < 0:\n",
    "        print(\"Phương trình vô nghiệm\")\n",
    "    elif delta == 0:\n",
    "        x = -b / (2*a)\n",
    "        print(\"Phương trình có nghiệm kép x =\", x)\n",
    "    else:\n",
    "        x1 = (-b + math.sqrt(delta)) / (2*a)\n",
    "        x2 = (-b - math.sqrt(delta)) / (2*a)\n",
    "        print(\"Phương trình có 2 nghiệm phân biệt:\")\n",
    "        print(\"x1 =\", x1)\n",
    "        print(\"x2 =\", x2)\n"
   ]
  },
  {
   "cell_type": "code",
   "execution_count": 16,
   "id": "8d749e82-d136-403c-b981-60f0f96b913a",
   "metadata": {},
   "outputs": [
    {
     "name": "stdin",
     "output_type": "stream",
     "text": [
      "Nhập a:  2\n",
      "Nhập b:  3\n",
      "Nhập c:  4\n",
      "Nhập d:  5\n"
     ]
    },
    {
     "name": "stdout",
     "output_type": "stream",
     "text": [
      "Giá trị lớn nhất là: 5\n"
     ]
    }
   ],
   "source": [
    "#bài 6\n",
    "\n",
    "a = int(input(\"Nhập a: \"))\n",
    "b = int(input(\"Nhập b: \"))\n",
    "c = int(input(\"Nhập c: \"))\n",
    "d = int(input(\"Nhập d: \"))\n",
    "\n",
    "lon_nhat = max(a, b, c, d)\n",
    "\n",
    "print(\"Giá trị lớn nhất là:\", lon_nhat)\n"
   ]
  },
  {
   "cell_type": "code",
   "execution_count": 17,
   "id": "6b2f8048-ef09-420f-b9a9-181b70c0df14",
   "metadata": {},
   "outputs": [
    {
     "name": "stdin",
     "output_type": "stream",
     "text": [
      "Nhập a:  2\n",
      "Nhập b:  3\n",
      "Nhập c:  4\n",
      "Nhập d:  5\n"
     ]
    },
    {
     "name": "stdout",
     "output_type": "stream",
     "text": [
      "Giá trị nhỏ nhất là: 2\n"
     ]
    }
   ],
   "source": [
    "#bài 7\n",
    "\n",
    "a = int(input(\"Nhập a: \"))\n",
    "b = int(input(\"Nhập b: \"))\n",
    "c = int(input(\"Nhập c: \"))\n",
    "d = int(input(\"Nhập d: \"))\n",
    "\n",
    "nho_nhat = min(a, b, c, d)\n",
    "\n",
    "print(\"Giá trị nhỏ nhất là:\", nho_nhat)\n"
   ]
  },
  {
   "cell_type": "code",
   "execution_count": 18,
   "id": "2f9c14bb-6c1c-4cb4-822c-9c99bbd3b29b",
   "metadata": {},
   "outputs": [
    {
     "name": "stdin",
     "output_type": "stream",
     "text": [
      "Nhập a:  5\n",
      "Nhập b:  6\n",
      "Nhập c:  7\n",
      "Nhập d:  8\n",
      "Nhập m:  9\n",
      "Nhập n:  10\n"
     ]
    },
    {
     "name": "stdout",
     "output_type": "stream",
     "text": [
      "Hệ có nghiệm duy nhất:\n",
      "x = -6.0\n",
      "y = 6.5\n"
     ]
    }
   ],
   "source": [
    "#bài 8\n",
    "\n",
    "a = int(input(\"Nhập a: \"))\n",
    "b = int(input(\"Nhập b: \"))\n",
    "c = int(input(\"Nhập c: \"))\n",
    "d = int(input(\"Nhập d: \"))\n",
    "m = int(input(\"Nhập m: \"))\n",
    "n = int(input(\"Nhập n: \"))\n",
    "\n",
    "D = a * d - b * c  \n",
    "\n",
    "if D != 0:\n",
    "    x = (m * d - b * n) / D\n",
    "    y = (a * n - m * c) / D\n",
    "    print(\"Hệ có nghiệm duy nhất:\")\n",
    "    print(\"x =\", x)\n",
    "    print(\"y =\", y)\n",
    "else:\n",
    "    if a * n == c * m and b * n == d * m:\n",
    "        print(\"Hệ có vô số nghiệm\")\n",
    "    else:\n",
    "        print(\"Hệ vô nghiệm\")\n"
   ]
  },
  {
   "cell_type": "code",
   "execution_count": 19,
   "id": "428e1cae-de49-48df-9398-8b0732cdb930",
   "metadata": {},
   "outputs": [
    {
     "name": "stdin",
     "output_type": "stream",
     "text": [
      "Nhập thời gian (giây):  7869\n"
     ]
    },
    {
     "name": "stdout",
     "output_type": "stream",
     "text": [
      "7869 giây = 2 giờ, 11 phút, 9 giây\n"
     ]
    }
   ],
   "source": [
    "#bài 9\n",
    "\n",
    "x = int(input(\"Nhập thời gian (giây): \"))\n",
    "\n",
    "gio = x // 3600\n",
    "phut = (x % 3600) // 60\n",
    "giay = x % 60\n",
    "\n",
    "print(f\"{x} giây = {gio} giờ, {phut} phút, {giay} giây\")\n"
   ]
  },
  {
   "cell_type": "code",
   "execution_count": 20,
   "id": "feecfbfb-e2e9-4a81-90e8-5c62903ed9fd",
   "metadata": {},
   "outputs": [
    {
     "name": "stdin",
     "output_type": "stream",
     "text": [
      "Nhập hoành độ tâm x0:  67\n",
      "Nhập tung độ tâm y0:  78\n",
      "Nhập bán kính R:  89\n",
      "Nhập hoành độ điểm A:  23\n",
      "Nhập tung độ điểm A:  54\n"
     ]
    },
    {
     "name": "stdout",
     "output_type": "stream",
     "text": [
      "Điểm A nằm trong đường tròn\n"
     ]
    }
   ],
   "source": [
    "#bài 10\n",
    "\n",
    "x0 = int(input(\"Nhập hoành độ tâm x0: \"))\n",
    "y0 = int(input(\"Nhập tung độ tâm y0: \"))\n",
    "R = int(input(\"Nhập bán kính R: \"))\n",
    "\n",
    "x = int(input(\"Nhập hoành độ điểm A: \"))\n",
    "y = int(input(\"Nhập tung độ điểm A: \"))\n",
    "\n",
    "\n",
    "d1 = (x - x0)**2 + (y - y0)**2\n",
    "R1 = R**2\n",
    "\n",
    "if d1 == R1:\n",
    "    print(\"Điểm A nằm trên đường tròn\")\n",
    "elif d1 < R1:\n",
    "    print(\"Điểm A nằm trong đường tròn\")\n",
    "else:\n",
    "    print(\"Điểm A nằm ngoài đường tròn\")\n"
   ]
  },
  {
   "cell_type": "code",
   "execution_count": 21,
   "id": "3d4cb0a8-8681-4037-b614-18ebeae659e9",
   "metadata": {},
   "outputs": [
    {
     "name": "stdin",
     "output_type": "stream",
     "text": [
      "Nhập x:  5\n",
      "Nhập y:  6\n"
     ]
    },
    {
     "name": "stdout",
     "output_type": "stream",
     "text": [
      "GIá trị x mũ y là: 15625\n"
     ]
    }
   ],
   "source": [
    "#bài 11\n",
    "\n",
    "x = int(input(\"Nhập x: \"))\n",
    "y = int(input(\"Nhập y: \"))\n",
    "\n",
    "luy_thua = x ** y\n",
    "\n",
    "print(\"GIá trị x mũ y là:\", luy_thua)\n"
   ]
  },
  {
   "cell_type": "code",
   "execution_count": null,
   "id": "dce20e8d-5115-41f3-be97-452e232f5234",
   "metadata": {},
   "outputs": [],
   "source": []
  }
 ],
 "metadata": {
  "kernelspec": {
   "display_name": "Python 3 (ipykernel)",
   "language": "python",
   "name": "python3"
  },
  "language_info": {
   "codemirror_mode": {
    "name": "ipython",
    "version": 3
   },
   "file_extension": ".py",
   "mimetype": "text/x-python",
   "name": "python",
   "nbconvert_exporter": "python",
   "pygments_lexer": "ipython3",
   "version": "3.13.7"
  }
 },
 "nbformat": 4,
 "nbformat_minor": 5
}
